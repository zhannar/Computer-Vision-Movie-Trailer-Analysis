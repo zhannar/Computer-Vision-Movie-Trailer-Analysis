{
 "cells": [
  {
   "cell_type": "code",
   "execution_count": 1,
   "metadata": {
    "collapsed": true
   },
   "outputs": [],
   "source": [
    "import pickle\n",
    "import cv2"
   ]
  },
  {
   "cell_type": "markdown",
   "metadata": {
    "collapsed": false
   },
   "source": [
    "## Attempt #1: openCV\n",
    "Resource Used: https://tobilehman.com/blog/2013/01/20/extract-array-of-frames-from-mp4-using-python-opencv-bindings/\n",
    "\n",
    "http://answers.opencv.org/question/62029/extract-a-frame-every-second-in-python/\n",
    "\n",
    "http://opencv-python-tutroals.readthedocs.io/en/latest/py_tutorials/py_gui/py_video_display/py_video_display.html"
   ]
  },
  {
   "cell_type": "markdown",
   "metadata": {
    "collapsed": true
   },
   "source": [
    "# Performance Comparisons:"
   ]
  },
  {
   "cell_type": "markdown",
   "metadata": {},
   "source": [
    "\"The easiest way to extract frames is to use the read() method on the vidcap object. It returns a tuple where the first element is a success flag and the second is the image array. \"\n",
    "\n",
    "\"The loop below runs until success is false or the user hits the Escape key. Each iteration saves the current frame as a JPEG.\n",
    "\n",
    "This is one way to extract a sequence of frames from a movie. Another way would be to change the body of the above while loop to do something else.\""
   ]
  },
  {
   "cell_type": "code",
   "execution_count": 4,
   "metadata": {
    "collapsed": false
   },
   "outputs": [
    {
     "name": "stdout",
     "output_type": "stream",
     "text": [
      "Complete\n"
     ]
    }
   ],
   "source": [
    "\n",
    "#################### Setting up the file ################\n",
    "videoFile = \"../Resources/Data/Raw/Movie_Trailers/Jumanji.mp4\"\n",
    "vidcap = cv2.VideoCapture(videoFile)\n",
    "success,image = vidcap.read()\n",
    "\n",
    "# Total size of movie ~7-10mb\n",
    "#################### Setting up parameters ################\n",
    "\n",
    "seconds = 1\n",
    "fps = vidcap.get(cv2.CAP_PROP_FPS) # Gets the frames per second\n",
    "multiplier = fps * seconds\n",
    "\n",
    "#################### Initiate Process ################\n",
    "\n",
    "while success:\n",
    "    frameId = int(round(vidcap.get(1))) #current frame number, rounded b/c Sometimes you get frame intervals which aren't integers...\n",
    "    success, image = vidcap.read()\n",
    "\n",
    "    if frameId % multiplier == 0:\n",
    "        cv2.imwrite(\"../Resources/Data/Derived/FolderFrames/frame%d.jpg\" % frameId, image)\n",
    "        \n",
    "vidcap.release()\n",
    "print \"Complete\""
   ]
  },
  {
   "cell_type": "code",
   "execution_count": 5,
   "metadata": {
    "collapsed": false
   },
   "outputs": [
    {
     "name": "stdout",
     "output_type": "stream",
     "text": [
      "Complete\n"
     ]
    }
   ],
   "source": [
    "# Trial 2: Savig Slices to list\n",
    "\n",
    "### For a movie which is rough 166 seconds long, and 12.7MB in size.\n",
    "### Slicing ever 1 seconds, also take 40 seconds total...\n",
    "# afer pickling it's 248MB -- can you say not worth it?\n",
    "., makes 7.5mb worth of 165 files.\n",
    "\n",
    "#################### Setting up the file ################\n",
    "videoFile = \"../Resources/Data/Raw/Movie_Trailers/Jumanji.mp4\"\n",
    "vidcap = cv2.VideoCapture(videoFile)\n",
    "success,image = vidcap.read()\n",
    "jumanji_list_of_frames = []\n",
    "\n",
    "# Total size of movie ~7-10mb\n",
    "#################### Setting up parameters ################\n",
    "\n",
    "seconds = 1\n",
    "fps = vidcap.get(cv2.CAP_PROP_FPS) # Gets the frames per second\n",
    "multiplier = fps * seconds\n",
    "\n",
    "#################### Initiate Process ################\n",
    "\n",
    "while success:\n",
    "    frameId = int(round(vidcap.get(1))) #current frame number, rounded b/c Sometimes you get frame intervals which aren't integers...\n",
    "    success, image = vidcap.read()\n",
    "\n",
    "    if frameId % multiplier == 0:\n",
    "        jumanji_list_of_frames.append(image)\n",
    "        #cv2.imwrite(\"FolderSeconds/frame%d.jpg\" % frameId, image)\n",
    "        \n",
    "vidcap.release()\n",
    "print \"Complete\""
   ]
  },
  {
   "cell_type": "code",
   "execution_count": 11,
   "metadata": {
    "collapsed": true
   },
   "outputs": [],
   "source": [
    "import pickle\n",
    "with file('../Resources/Data/Derived/Pickles/jumanji_list_of_frames.pickle', 'w') as f:\n",
    "    pickle.dump(jumanji_list_of_frames, f)"
   ]
  },
  {
   "cell_type": "code",
   "execution_count": null,
   "metadata": {
    "collapsed": true
   },
   "outputs": [],
   "source": []
  },
  {
   "cell_type": "markdown",
   "metadata": {},
   "source": [
    "# Conclusion -- Store each picture individually - the pickle object aggregate is too big (>100mb)"
   ]
  },
  {
   "cell_type": "code",
   "execution_count": null,
   "metadata": {
    "collapsed": true
   },
   "outputs": [],
   "source": []
  }
 ],
 "metadata": {
  "kernelspec": {
   "display_name": "Python 2",
   "language": "python",
   "name": "python2"
  },
  "language_info": {
   "codemirror_mode": {
    "name": "ipython",
    "version": 2
   },
   "file_extension": ".py",
   "mimetype": "text/x-python",
   "name": "python",
   "nbconvert_exporter": "python",
   "pygments_lexer": "ipython2",
   "version": "2.7.11"
  }
 },
 "nbformat": 4,
 "nbformat_minor": 0
}
