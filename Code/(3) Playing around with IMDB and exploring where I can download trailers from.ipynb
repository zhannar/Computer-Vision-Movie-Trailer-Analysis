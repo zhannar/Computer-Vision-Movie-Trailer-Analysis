{
 "cells": [
  {
   "cell_type": "code",
   "execution_count": 1,
   "metadata": {
    "collapsed": true
   },
   "outputs": [],
   "source": [
    "import pickle"
   ]
  },
  {
   "cell_type": "code",
   "execution_count": 2,
   "metadata": {
    "collapsed": true
   },
   "outputs": [],
   "source": [
    "with file('movies_metadata_big.pickle') as f:\n",
    "    movies_metadata_big = pickle.load(f)\n"
   ]
  },
  {
   "cell_type": "code",
   "execution_count": 3,
   "metadata": {
    "collapsed": false
   },
   "outputs": [],
   "source": [
    "movie_titles = list(movies_metadata_big[\"title\"].head(10))\n",
    "movie_imdb = list(movies_metadata_big[\"imdbID\"].head(10))"
   ]
  },
  {
   "cell_type": "code",
   "execution_count": 4,
   "metadata": {
    "collapsed": false
   },
   "outputs": [
    {
     "data": {
      "text/plain": [
       "[114709, 113497, 107050, 114885, 113041, 113277, 47437, 112302, 114576, 113189]"
      ]
     },
     "execution_count": 4,
     "metadata": {},
     "output_type": "execute_result"
    }
   ],
   "source": [
    "movie_imdb"
   ]
  },
  {
   "cell_type": "code",
   "execution_count": 5,
   "metadata": {
    "collapsed": false
   },
   "outputs": [
    {
     "data": {
      "text/plain": [
       "[114709, 113497, 107050, 114885, 113041, 113277, 47437, 112302, 114576, 113189]"
      ]
     },
     "execution_count": 5,
     "metadata": {},
     "output_type": "execute_result"
    }
   ],
   "source": [
    "movie_imdb"
   ]
  },
  {
   "cell_type": "markdown",
   "metadata": {},
   "source": [
    "# (1) Download & Reformating Movies"
   ]
  },
  {
   "cell_type": "code",
   "execution_count": 6,
   "metadata": {
    "collapsed": true
   },
   "outputs": [],
   "source": [
    "import requests\n",
    "import json\n",
    "from bs4 import BeautifulSoup\n",
    "import pprint"
   ]
  },
  {
   "cell_type": "code",
   "execution_count": 16,
   "metadata": {
    "collapsed": true
   },
   "outputs": [],
   "source": [
    "url = \"http://www.movie-list.com/archive.php\""
   ]
  },
  {
   "cell_type": "code",
   "execution_count": null,
   "metadata": {
    "collapsed": true
   },
   "outputs": [],
   "source": [
    "IMDB - Although \n",
    "\n",
    "http://www.imdb.com/video/imdb/vi3685875993/imdb/embed?autoplay=true"
   ]
  },
  {
   "cell_type": "code",
   "execution_count": null,
   "metadata": {
    "collapsed": true
   },
   "outputs": [],
   "source": [
    "response = requests.get(url)\n",
    "page_html = response.text\n",
    "soup = BeautifulSoup(page_html)"
   ]
  },
  {
   "cell_type": "code",
   "execution_count": 20,
   "metadata": {
    "collapsed": false
   },
   "outputs": [],
   "source": [
    "links = soup('a')"
   ]
  },
  {
   "cell_type": "code",
   "execution_count": 25,
   "metadata": {
    "collapsed": false
   },
   "outputs": [
    {
     "name": "stdout",
     "output_type": "stream",
     "text": [
      "<a href=\"/index.php\">Home</a>\n",
      "<a alt=\"Movies opening soon in theaters\" href=\"/comingsoon.php\">Coming Soon</a>\n",
      "<a alt=\"Latest movies now playing in theaters\" href=\"/nowplaying.php\">Now Playing</a>\n",
      "<a href=\"/archive.php\">Archives</a>\n",
      "<a href=\"/classics.php\">Classics</a>\n",
      "<a alt=\"Movie news\" href=\"/blog/\">News</a>\n",
      "<a alt=\"Movies coming to DVD and Blu-ray\" href=\"/ondvd.php\">DVD / Blu-ray</a>\n",
      "<a href=\"/search.php\">Search</a>\n",
      "<a href=\"#\">Social</a>\n",
      "<a href=\"/forum/\">Forum</a>\n"
     ]
    }
   ],
   "source": [
    "for l in links[0:10]:\n",
    "    print l"
   ]
  },
  {
   "cell_type": "code",
   "execution_count": null,
   "metadata": {
    "collapsed": true
   },
   "outputs": [],
   "source": []
  },
  {
   "cell_type": "markdown",
   "metadata": {},
   "source": [
    "# Movie Trailer.Co\n",
    "http://movietrailer.co/movie/3723/Kung+Fu+Panda+2\n"
   ]
  },
  {
   "cell_type": "code",
   "execution_count": null,
   "metadata": {
    "collapsed": true
   },
   "outputs": [],
   "source": []
  },
  {
   "cell_type": "code",
   "execution_count": null,
   "metadata": {
    "collapsed": true
   },
   "outputs": [],
   "source": []
  },
  {
   "cell_type": "markdown",
   "metadata": {},
   "source": [
    "# (2) Reformatting a movie into necessairy format (if nec)"
   ]
  },
  {
   "cell_type": "code",
   "execution_count": null,
   "metadata": {
    "collapsed": true
   },
   "outputs": [],
   "source": [
    "# Get list of all movies in \"movie folder\" that need to be split"
   ]
  },
  {
   "cell_type": "markdown",
   "metadata": {},
   "source": [
    "# (3) Load a movie & Split it\n",
    "\n"
   ]
  },
  {
   "cell_type": "code",
   "execution_count": null,
   "metadata": {
    "collapsed": true
   },
   "outputs": [],
   "source": []
  },
  {
   "cell_type": "markdown",
   "metadata": {
    "collapsed": false
   },
   "source": [
    "## With some grayscaling option"
   ]
  },
  {
   "cell_type": "code",
   "execution_count": null,
   "metadata": {
    "collapsed": false
   },
   "outputs": [],
   "source": [
    "import numpy as np\n",
    "import cv2\n",
    "\n",
    "cap = cv2.VideoCapture(videoFile)\n",
    "\n",
    "while success:\n",
    "    # Capture frame-by-frame\n",
    "    success, frame = cap.read()\n",
    "\n",
    "    # Our operations on the frame come here\n",
    "    gray = cv2.cvtColor(frame, cv2.COLOR_BGR2GRAY)\n",
    "\n",
    "    # Display the resulting frame\n",
    "    cv2.imshow('frame',gray)\n",
    "    \n",
    "# When everything done, release the capture\n",
    "cap.release()\n",
    "\n",
    "\n",
    "cv2.destroyAllWindows()"
   ]
  },
  {
   "cell_type": "code",
   "execution_count": 12,
   "metadata": {
    "collapsed": false
   },
   "outputs": [],
   "source": []
  },
  {
   "cell_type": "markdown",
   "metadata": {
    "collapsed": true
   },
   "source": [
    "## Playing around with the imdb Python script"
   ]
  },
  {
   "cell_type": "markdown",
   "metadata": {},
   "source": [
    "More info: http://imdbpy.sourceforge.net/support.html"
   ]
  },
  {
   "cell_type": "markdown",
   "metadata": {},
   "source": [
    "Download the whole thing into SQL: http://imdbpy.sourceforge.net/docs/README.sqldb.txt"
   ]
  },
  {
   "cell_type": "code",
   "execution_count": 4,
   "metadata": {
    "collapsed": false
   },
   "outputs": [
    {
     "name": "stdout",
     "output_type": "stream",
     "text": [
      "[<Person id:0905154[http] name:_Wachowski, Lana_>, <Person id:0905152[http] name:_Wachowski, Lilly_>]\n",
      "0000154 Mel Gibson\n",
      "3323885 Adam Taylor\n",
      "0317112 Mel Gibson\n",
      "2153167 Mel Gibson\n",
      "6709224 Mel Gibson\n",
      "2800055 Mel Gibson\n",
      "0316945 Donal Gibson\n",
      "0317195 Terel Gibson\n",
      "0316878 Cal Gibson\n",
      "2106809 Raquel Gibson\n",
      "3912400 Jamel Gibson\n",
      "7699405 Jamel Gibson\n",
      "7133936 Jamel Gibson\n",
      "0316950 E.L. Gibson\n",
      "2798174 Daniel Gibson\n",
      "0316915 Daniel Gibson\n",
      "2606006 Anne L. Gibson\n",
      "7454542 L. Gibson\n",
      "6611667 Hazel Gibson\n",
      "0316923 Darryl Gibson\n"
     ]
    }
   ],
   "source": [
    "from imdb import IMDb \n",
    "ia = IMDb()\n",
    "\n",
    "the_matrix = ia.get_movie('0133093')\n",
    "print the_matrix['director']\n",
    "\n",
    "for person in ia.search_person('Mel Gibson'):\n",
    "        print person.personID, person['name']"
   ]
  },
  {
   "cell_type": "code",
   "execution_count": 8,
   "metadata": {
    "collapsed": false
   },
   "outputs": [
    {
     "data": {
      "text/plain": [
       "[114709, 113497, 107050, 114885, 113041, 113277, 47437, 112302, 114576, 113189]"
      ]
     },
     "execution_count": 8,
     "metadata": {},
     "output_type": "execute_result"
    }
   ],
   "source": [
    "movie_imdb"
   ]
  },
  {
   "cell_type": "code",
   "execution_count": 5,
   "metadata": {
    "collapsed": false
   },
   "outputs": [],
   "source": [
    "toy_story = ia.get_movie(114709)"
   ]
  },
  {
   "cell_type": "markdown",
   "metadata": {},
   "source": [
    "# Among other things, I can get the plot and various movie information...unfortunantntly not the traielrs..."
   ]
  },
  {
   "cell_type": "code",
   "execution_count": 42,
   "metadata": {
    "collapsed": false
   },
   "outputs": [],
   "source": [
    "# #dir(toy_story)\n",
    "# for x in toy_story.iteritems():\n",
    "#     print type(x)\n",
    "#     print x[1]"
   ]
  },
  {
   "cell_type": "code",
   "execution_count": 48,
   "metadata": {
    "collapsed": false
   },
   "outputs": [
    {
     "name": "stdout",
     "output_type": "stream",
     "text": [
      "40\n",
      "<class 'imdb.Movie.Movie'>\n",
      "http://ia.media-imdb.com/images/M/MV5BMTgwMjI4MzU5N15BMl5BanBnXkFtZTcwMTMyNTk3OA@@._V1._SX100_SY133_.jpg\n",
      "('cover url', u'http://ia.media-imdb.com/images/M/MV5BMTgwMjI4MzU5N15BMl5BanBnXkFtZTcwMTMyNTk3OA@@._V1._SX100_SY133_.jpg')\n",
      "[u'music department', 'camera and electrical department', u'distributors', 'rating', 'runtimes', 'year', 'miscellaneous crew', 'color info', 'languages', 'votes', 'producer', 'title', 'writer', 'top 250 rank', 'visual effects', 'production manager', 'editor', 'certificates', 'sound crew', 'country codes', 'language codes', 'cover url', u'casting department', u'editorial department', 'sound mix', 'genres', 'director', 'miscellaneous companies', u'animation department', 'art direction', 'akas', 'aspect ratio', u'production companies', 'kind', u'art department', 'countries', 'plot outline', 'plot', 'cast', 'original music', 'canonical title', 'long imdb title', 'long imdb canonical title', 'smart canonical title', 'smart long imdb canonical title', 'full-size cover url']\n"
     ]
    }
   ],
   "source": [
    "#dir(toy_story)\n",
    "print len(list(toy_story.iteritems()))\n",
    "print type(toy_story)\n",
    "print toy_story[\"cover url\"]\n",
    "\n",
    "\n",
    "print toy_story.items()[21]\n",
    "toy_story.items()[21][1]\n",
    "str(toy_story.items()[21][1])\n",
    "\n",
    "print toy_story.keys()"
   ]
  },
  {
   "cell_type": "code",
   "execution_count": null,
   "metadata": {
    "collapsed": true
   },
   "outputs": [],
   "source": []
  }
 ],
 "metadata": {
  "kernelspec": {
   "display_name": "Python 2",
   "language": "python",
   "name": "python2"
  },
  "language_info": {
   "codemirror_mode": {
    "name": "ipython",
    "version": 2
   },
   "file_extension": ".py",
   "mimetype": "text/x-python",
   "name": "python",
   "nbconvert_exporter": "python",
   "pygments_lexer": "ipython2",
   "version": "2.7.11"
  }
 },
 "nbformat": 4,
 "nbformat_minor": 0
}
