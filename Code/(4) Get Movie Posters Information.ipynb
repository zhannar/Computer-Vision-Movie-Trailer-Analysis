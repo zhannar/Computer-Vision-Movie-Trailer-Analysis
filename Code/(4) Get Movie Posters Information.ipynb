{
 "cells": [
  {
   "cell_type": "markdown",
   "metadata": {},
   "source": [
    "## 0. Package Loading"
   ]
  },
  {
   "cell_type": "code",
   "execution_count": 1,
   "metadata": {
    "collapsed": true
   },
   "outputs": [],
   "source": [
    "import pandas as pd\n",
    "pd.options.display.max_columns = 500\n",
    "\n",
    "import pickle\n",
    "\n",
    "import numpy as np\n",
    "\n",
    "\n",
    "# import scipy.sparse as sp\n",
    "# from scipy.sparse.linalg import svds\n",
    "# from sklearn.decomposition import NMF\n",
    "# from sklearn.datasets import dump_svmlight_file\n",
    "# from scipy.sparse import csr_matrix, find\n"
   ]
  },
  {
   "cell_type": "markdown",
   "metadata": {},
   "source": [
    "## I. Importing the data"
   ]
  },
  {
   "cell_type": "code",
   "execution_count": 11,
   "metadata": {
    "collapsed": false
   },
   "outputs": [],
   "source": [
    "hetrec2011_dat_files = !ls ../Resources/Data/Raw/hetrec2011-movielens-2k-v2/\n",
    "hetrec2011_dat_files.remove(\"readme.txt\")\n",
    "hetrec2011_dat_files_pwd = []\n",
    "hetrec2011_table_names = []\n",
    "for i in range(len(hetrec2011_dat_files)):\n",
    "    # This creates a new item in the hetrec2011_dat_files_pwd list which has the full directory path\n",
    "    hetrec2011_dat_files_pwd.append(\"../Resources/Data/Raw/hetrec2011-movielens-2k-v2/\" + hetrec2011_dat_files[i])\n",
    "    # This distills out just the names of the taples (without \"dat\" at the end)\n",
    "    hetrec2011_table_names.append(hetrec2011_dat_files[i][:-4])\n",
    "\n",
    "# hetrec2011_dat_files_pwd\n",
    "# hetrec2011_table_names\n",
    "# hetrec2011_table_names    "
   ]
  },
  {
   "cell_type": "code",
   "execution_count": 12,
   "metadata": {
    "collapsed": false
   },
   "outputs": [],
   "source": [
    "dictionary_of_hetrec_dataframes = {}\n",
    "n = len(hetrec2011_dat_files_pwd)\n",
    "\n",
    "for i in range(n):\n",
    "    table_name = hetrec2011_table_names[i]\n",
    "    table_path = hetrec2011_dat_files_pwd[i]\n",
    "    dictionary_of_hetrec_dataframes[table_name] = pd.read_table(table_path)\n",
    "\n",
    "dictionary_of_hetrec_dataframes[\"movies\"].rename(columns={'id':'movieID'}, inplace=True)\n",
    "dictionary_of_hetrec_dataframes[\"tags\"].rename(columns={'id':'tagID'}, inplace=True)\n",
    "dictionary_of_hetrec_dataframes[\"tags\"].rename(columns={'value':'tag_value'}, inplace=True)"
   ]
  },
  {
   "cell_type": "code",
   "execution_count": 13,
   "metadata": {
    "collapsed": false
   },
   "outputs": [
    {
     "data": {
      "text/plain": [
       "['movie_actors',\n",
       " 'user_ratedmovies-timestamps',\n",
       " 'movie_locations',\n",
       " 'movie_directors',\n",
       " 'tags',\n",
       " 'user_taggedmovies',\n",
       " 'user_taggedmovies-timestamps',\n",
       " 'movies',\n",
       " 'movie_genres',\n",
       " 'movie_countries',\n",
       " 'movie_tags',\n",
       " 'user_ratedmovies']"
      ]
     },
     "execution_count": 13,
     "metadata": {},
     "output_type": "execute_result"
    }
   ],
   "source": [
    "dictionary_of_hetrec_dataframes.keys()"
   ]
  },
  {
   "cell_type": "code",
   "execution_count": 14,
   "metadata": {
    "collapsed": true
   },
   "outputs": [],
   "source": [
    "from PIL import Image\n",
    "import requests\n",
    "import numpy as np\n",
    "from StringIO import StringIO\n",
    "\n",
    "import PIL.Image\n",
    "from cStringIO import StringIO\n",
    "import IPython.display"
   ]
  },
  {
   "cell_type": "code",
   "execution_count": 15,
   "metadata": {
    "collapsed": true
   },
   "outputs": [],
   "source": [
    "def showarray(a, fmt='png'):\n",
    "    \"\"\"This Function Takes a NP array image and displays it.\"\"\"\n",
    "    a = np.uint8(a)\n",
    "    f = StringIO()\n",
    "    PIL.Image.fromarray(a).save(f, fmt)\n",
    "    IPython.display.display(IPython.display.Image(data=f.getvalue()))"
   ]
  },
  {
   "cell_type": "markdown",
   "metadata": {},
   "source": [
    "#### Getting a dictionary of movie poster information: # Key: ID Value:( title, img url, shape tuple, image )"
   ]
  },
  {
   "cell_type": "code",
   "execution_count": 16,
   "metadata": {
    "collapsed": false
   },
   "outputs": [],
   "source": [
    "path = '../Resources/Data/Raw/hetrec2011-movielens-2k-v2/movies.dat'\n",
    "movies_df = pd.read_table(path)\n",
    "\n",
    "list_of_movieIDs = movies_df[\"id\"]\n",
    "list_of_movieTitles = movies_df[\"title\"]\n",
    "list_of_urls = movies_df[\"imdbPictureURL\"]"
   ]
  },
  {
   "cell_type": "code",
   "execution_count": 19,
   "metadata": {
    "collapsed": false
   },
   "outputs": [
    {
     "name": "stdout",
     "output_type": "stream",
     "text": [
      "10197\n"
     ]
    }
   ],
   "source": [
    "print len(list_of_movieIDs)"
   ]
  },
  {
   "cell_type": "code",
   "execution_count": 48,
   "metadata": {
    "collapsed": false
   },
   "outputs": [
    {
     "name": "stdout",
     "output_type": "stream",
     "text": [
      "0 500 1000 1500 2000 2500 3000 3500 4000 4500 5000 5500 6000 6500 7000 7500 8000 8500 9000 9500 10000\n"
     ]
    }
   ],
   "source": [
    "# Commenting this out since it's run and and then has been pickled.\n",
    "\n",
    "poster_dictionary = {}\n",
    "# Key: ID Value:( title, img url, local image path)\n",
    "\n",
    "for i in range(len(list_of_movieIDs)):\n",
    "#for i in range(24):\n",
    "    if i in poster_dictionary:  #Basically, if i've already added that movie into the dictionary, move onto the next movie\n",
    "        pass\n",
    "    if i % 500 == 0: \n",
    "        print i,\n",
    "    movieID = list_of_movieIDs[i]\n",
    "    title = list_of_movieTitles[i]\n",
    "    #print title\n",
    "    url = list_of_urls[i]\n",
    "    #print url\n",
    "    if type(url) == float:   #This occurs if the cell has \"nan\" inside of it. E.g. nan_error = list_of_urls[134]\n",
    "        #print \"nan value\", i,\n",
    "        #img_as_array = float(\"NaN\")\n",
    "        image_path = \"NaN\"\n",
    "    else:\n",
    "        response = requests.get(url)\n",
    "        #print response\n",
    "        #print type(response)\n",
    "        if response.content == \"\":   #This is the \"content\" feature of an instance of a bad_404_response = requests.get(list_of_urls[i])\n",
    "            #print \"bad response\", i, \n",
    "            #img_as_array = float(\"NaN\")\n",
    "            image_path = \"NaN\"\n",
    "        else:            \n",
    "            image = Image.open(StringIO(response.content))\n",
    "            #img_as_array = np.array(Image.open(StringIO(response.content)))\n",
    "            image_path = \"../Resources/Data/Raw/MoviePosters/\" + str(movieID) + \".jpg\"\n",
    "            \n",
    "            image.save(image_path)\n",
    "                               \n",
    "#######################\n",
    "\n",
    "    #showarray(img)\n",
    "    poster_dictionary[movieID] = (title,url,image_path)"
   ]
  },
  {
   "cell_type": "code",
   "execution_count": 55,
   "metadata": {
    "collapsed": false
   },
   "outputs": [],
   "source": [
    "# with open('../Resources/Data/Pickles/poster_dictionary.pickle', 'wb') as handle:\n",
    "#   pickle.dump(poster_dictionary, handle)\n",
    "\n",
    "with open('poster_dictionary.pickle', 'rb') as handle:\n",
    "  poster_dictionary = pickle.load(handle)"
   ]
  },
  {
   "cell_type": "code",
   "execution_count": 11,
   "metadata": {
    "collapsed": false
   },
   "outputs": [],
   "source": []
  },
  {
   "cell_type": "code",
   "execution_count": 57,
   "metadata": {
    "collapsed": false
   },
   "outputs": [
    {
     "name": "stdout",
     "output_type": "stream",
     "text": [
      "Leaving Las Vegas\n"
     ]
    }
   ],
   "source": [
    "print poster_dictionary[25][0]\n"
   ]
  },
  {
   "cell_type": "code",
   "execution_count": null,
   "metadata": {
    "collapsed": true
   },
   "outputs": [],
   "source": []
  },
  {
   "cell_type": "code",
   "execution_count": 63,
   "metadata": {
    "collapsed": false
   },
   "outputs": [],
   "source": [
    "MoviePosters_df = pd.DataFrame(poster_dictionary).T"
   ]
  },
  {
   "cell_type": "code",
   "execution_count": 64,
   "metadata": {
    "collapsed": false
   },
   "outputs": [
    {
     "data": {
      "text/html": [
       "<div>\n",
       "<table border=\"1\" class=\"dataframe\">\n",
       "  <thead>\n",
       "    <tr style=\"text-align: right;\">\n",
       "      <th></th>\n",
       "      <th>MovieTitle</th>\n",
       "      <th>OnlinePosterLink</th>\n",
       "      <th>LocalPosterPath</th>\n",
       "    </tr>\n",
       "  </thead>\n",
       "  <tbody>\n",
       "    <tr>\n",
       "      <th>1</th>\n",
       "      <td>Toy story</td>\n",
       "      <td>http://ia.media-imdb.com/images/M/MV5BMTMwNDU0...</td>\n",
       "      <td>../Resources/Data/Raw/MoviePosters/1.jpg</td>\n",
       "    </tr>\n",
       "    <tr>\n",
       "      <th>2</th>\n",
       "      <td>Jumanji</td>\n",
       "      <td>http://ia.media-imdb.com/images/M/MV5BMzM5NjE1...</td>\n",
       "      <td>../Resources/Data/Raw/MoviePosters/2.jpg</td>\n",
       "    </tr>\n",
       "    <tr>\n",
       "      <th>3</th>\n",
       "      <td>Grumpy Old Men</td>\n",
       "      <td>http://ia.media-imdb.com/images/M/MV5BMTI5MTgy...</td>\n",
       "      <td>../Resources/Data/Raw/MoviePosters/3.jpg</td>\n",
       "    </tr>\n",
       "    <tr>\n",
       "      <th>4</th>\n",
       "      <td>Waiting to Exhale</td>\n",
       "      <td>http://ia.media-imdb.com/images/M/MV5BMTczMTMy...</td>\n",
       "      <td>../Resources/Data/Raw/MoviePosters/4.jpg</td>\n",
       "    </tr>\n",
       "    <tr>\n",
       "      <th>5</th>\n",
       "      <td>Father of the Bride Part II</td>\n",
       "      <td>http://ia.media-imdb.com/images/M/MV5BMTg1NDc2...</td>\n",
       "      <td>../Resources/Data/Raw/MoviePosters/5.jpg</td>\n",
       "    </tr>\n",
       "  </tbody>\n",
       "</table>\n",
       "</div>"
      ],
      "text/plain": [
       "                    MovieTitle  \\\n",
       "1                    Toy story   \n",
       "2                      Jumanji   \n",
       "3               Grumpy Old Men   \n",
       "4            Waiting to Exhale   \n",
       "5  Father of the Bride Part II   \n",
       "\n",
       "                                    OnlinePosterLink  \\\n",
       "1  http://ia.media-imdb.com/images/M/MV5BMTMwNDU0...   \n",
       "2  http://ia.media-imdb.com/images/M/MV5BMzM5NjE1...   \n",
       "3  http://ia.media-imdb.com/images/M/MV5BMTI5MTgy...   \n",
       "4  http://ia.media-imdb.com/images/M/MV5BMTczMTMy...   \n",
       "5  http://ia.media-imdb.com/images/M/MV5BMTg1NDc2...   \n",
       "\n",
       "                            LocalPosterPath  \n",
       "1  ../Resources/Data/Raw/MoviePosters/1.jpg  \n",
       "2  ../Resources/Data/Raw/MoviePosters/2.jpg  \n",
       "3  ../Resources/Data/Raw/MoviePosters/3.jpg  \n",
       "4  ../Resources/Data/Raw/MoviePosters/4.jpg  \n",
       "5  ../Resources/Data/Raw/MoviePosters/5.jpg  "
      ]
     },
     "execution_count": 64,
     "metadata": {},
     "output_type": "execute_result"
    }
   ],
   "source": [
    "MoviePosters_df.columns = [\"MovieTitle\",\"OnlinePosterLink\",\"LocalPosterPath\"]\n",
    "MoviePosters_df.head()"
   ]
  },
  {
   "cell_type": "code",
   "execution_count": 65,
   "metadata": {
    "collapsed": true
   },
   "outputs": [],
   "source": [
    "MoviePosters_df.to_csv(\"../Resources/Data/Derived/MoviePosters_df.csv\")"
   ]
  },
  {
   "cell_type": "markdown",
   "metadata": {},
   "source": [
    "#### Using the dictionary to create image features --> img to serieal numbers / array"
   ]
  },
  {
   "cell_type": "markdown",
   "metadata": {
    "collapsed": true
   },
   "source": [
    "Convert multidimensional array to single dimension array / image vector"
   ]
  },
  {
   "cell_type": "code",
   "execution_count": null,
   "metadata": {
    "collapsed": true
   },
   "outputs": [],
   "source": []
  }
 ],
 "metadata": {
  "kernelspec": {
   "display_name": "Python 2",
   "language": "python",
   "name": "python2"
  },
  "language_info": {
   "codemirror_mode": {
    "name": "ipython",
    "version": 2
   },
   "file_extension": ".py",
   "mimetype": "text/x-python",
   "name": "python",
   "nbconvert_exporter": "python",
   "pygments_lexer": "ipython2",
   "version": "2.7.11"
  }
 },
 "nbformat": 4,
 "nbformat_minor": 0
}
